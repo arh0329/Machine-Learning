{
 "cells": [
  {
   "cell_type": "markdown",
   "metadata": {},
   "source": [
    "## HW P03 - Applying Logistic Regression\n",
    "\n",
    "In this assignment, you will apply the logistic regression classifier that you have implemented. Assume that a lending agency is interested in creating a predictive model to generate predictions about whether or not a loan applicant will be approved, based on certain pieces of personal information. \n",
    "\n",
    "After implementing your logistic regression classifier, place this notebook in the same directory as your `LogisticRegression.py` script, and then run the following cell."
   ]
  },
  {
   "cell_type": "code",
   "execution_count": null,
   "metadata": {
    "collapsed": true
   },
   "outputs": [],
   "source": [
    "import numpy as np\n",
    "import pandas as pd\n",
    "import matplotlib.pyplot as plt\n",
    "from LogisticRegression import LogisticRegression"
   ]
  },
  {
   "cell_type": "markdown",
   "metadata": {},
   "source": [
    "The data for this assignment is stored in the file `loan_data.text`. Place that file in the same directory as this notebook, and then execute the following cell, which loads the data into a pandas dataframe. A description of the columns in that dataframe is as follows:\n",
    "\n",
    "* **`age`**: The age of the applicant.\n",
    "* **`credit`**: The applicant's credit score. \n",
    "* **`debt`**: The amount of debt the applicant currently has, in thousands of dollars. \n",
    "* **`savings`**: The amount the applicant currently has saved, in thousands of dollars. \n",
    "* **`result`**: The result of the loan application. This column contains our labels. "
   ]
  },
  {
   "cell_type": "code",
   "execution_count": null,
   "metadata": {
    "collapsed": true
   },
   "outputs": [],
   "source": [
    "loan_df = pd.read_table('loan_data.txt', sep='\\t')\n",
    "loan_df.head(n=10)"
   ]
  },
  {
   "cell_type": "markdown",
   "metadata": {},
   "source": [
    "In the cell below, use `iloc` to create two dataframes, `X` and `y`, which contain the features and labels of the data, respectively. Print the shapes of these two dataframes. "
   ]
  },
  {
   "cell_type": "code",
   "execution_count": null,
   "metadata": {
    "collapsed": true
   },
   "outputs": [],
   "source": [
    "# Create dataframes X and y\n",
    "# Print shapes of X and y"
   ]
  },
  {
   "cell_type": "markdown",
   "metadata": {},
   "source": [
    "The code below splits the dataset into training and test sets. "
   ]
  },
  {
   "cell_type": "code",
   "execution_count": null,
   "metadata": {
    "collapsed": true
   },
   "outputs": [],
   "source": [
    "np.random.seed(1)\n",
    "n = len(y)\n",
    "index = np.random.choice(range(n), n, replace=False)\n",
    "X_shuffled = X.iloc[index,:]\n",
    "y_shuffled = y.iloc[index]\n",
    "\n",
    "k = int(0.7*n)\n",
    "X_train = X_shuffled.iloc[:k,:]\n",
    "X_test = X_shuffled.iloc[k:,:]\n",
    "y_train = y_shuffled.iloc[:k]\n",
    "y_test = y_shuffled.iloc[k:]"
   ]
  },
  {
   "cell_type": "markdown",
   "metadata": {},
   "source": [
    "In the cell below, create a logistic regression model using the training data. Store the model in `mod`. Generate a summary of the model."
   ]
  },
  {
   "cell_type": "code",
   "execution_count": null,
   "metadata": {
    "collapsed": true
   },
   "outputs": [],
   "source": [
    "# Train a logistic regression model.\n",
    "# Generate a summary of the model."
   ]
  },
  {
   "cell_type": "markdown",
   "metadata": {},
   "source": [
    "Use the `score()` method of your model to print the training accuracy and testing accuracy for your model. Include text in your output to indicate which score is which. "
   ]
  },
  {
   "cell_type": "code",
   "execution_count": null,
   "metadata": {
    "collapsed": true,
    "scrolled": true
   },
   "outputs": [],
   "source": [
    "# Print training accuray. \n",
    "# Print testing accuray. "
   ]
  },
  {
   "cell_type": "markdown",
   "metadata": {},
   "source": [
    "Consider an applicant with the following characteristics: `age=35, credit=620, debt=10, savings=8`. Use your model to generate a prediction as to whether or not this individual will be approved for a loan. Print the predicted outcome 'Denied' or 'Loan Appoved', as well as the estimated probability that the loan will be approved. "
   ]
  },
  {
   "cell_type": "code",
   "execution_count": null,
   "metadata": {
    "collapsed": true,
    "scrolled": true
   },
   "outputs": [],
   "source": [
    "# Print predicted outcome.\n",
    "# Print estimated probability of approval."
   ]
  },
  {
   "cell_type": "markdown",
   "metadata": {},
   "source": [
    "Use your model to generate a confusion matrix based on the testing data. "
   ]
  },
  {
   "cell_type": "code",
   "execution_count": null,
   "metadata": {
    "collapsed": true,
    "scrolled": false
   },
   "outputs": [],
   "source": [
    "# Display confusion matrix for testing data."
   ]
  },
  {
   "cell_type": "markdown",
   "metadata": {},
   "source": [
    "The cell below explores the effect that the threshold `t` has on precision and recall. Complete the code in this cell by replacing the blank lines with the appropriate expressions. "
   ]
  },
  {
   "cell_type": "code",
   "execution_count": null,
   "metadata": {
    "collapsed": true
   },
   "outputs": [],
   "source": [
    "p_list = []\n",
    "r_list = []\n",
    "\n",
    "for i in range(0,100):\n",
    "    y_pred = mod.predict(X_test, t = i/100)\n",
    "    \n",
    "    TP = np.sum((_____) & (_____))\n",
    "    FP = np.sum((_____) & (_____))\n",
    "    FN = np.sum((_____) & (_____))\n",
    "    \n",
    "    precision = _____\n",
    "    recall = _____\n",
    "    p_list.append(precision)\n",
    "    r_list.append(recall)\n",
    "    \n",
    "plt.close()\n",
    "plt.plot(r_list, p_list)\n",
    "plt.xlim([0,1])\n",
    "plt.ylim([0.5,1])\n",
    "plt.xlabel('Recall')\n",
    "plt.ylabel('Precision')\n",
    "plt.show()    "
   ]
  },
  {
   "cell_type": "markdown",
   "metadata": {},
   "source": [
    "When the model has high recall, then it predicts \"Loan Approved\" for nearly everyone for whom the loan should be approved. However, the model will also likely predict approval for many people that should otherwise be denied. \n",
    "\n",
    "When the model has high precision, then nearly everyone who is predicted to be approved, should be approved. However, there will likely be several people who should be approved, but were turned down by the model. \n",
    "\n",
    "Do you believe that the lending agency would prefer to see higher precision or higher recall in this model? Provide your answer, with a **brief** explanation in the markdown cell below. "
   ]
  },
  {
   "cell_type": "markdown",
   "metadata": {},
   "source": []
  }
 ],
 "metadata": {
  "kernelspec": {
   "display_name": "Python 3",
   "language": "python",
   "name": "python3"
  },
  "language_info": {
   "codemirror_mode": {
    "name": "ipython",
    "version": 3
   },
   "file_extension": ".py",
   "mimetype": "text/x-python",
   "name": "python",
   "nbconvert_exporter": "python",
   "pygments_lexer": "ipython3",
   "version": "3.6.3"
  }
 },
 "nbformat": 4,
 "nbformat_minor": 2
}
