{
 "cells": [
  {
   "cell_type": "markdown",
   "metadata": {},
   "source": [
    "# Decision Tree Regression"
   ]
  },
  {
   "cell_type": "markdown",
   "metadata": {},
   "source": [
    "similar to decision tree classifier but you score it on SSE instead of Gini score."
   ]
  },
  {
   "cell_type": "markdown",
   "metadata": {},
   "source": [
    "score of each split equals the (n<sub>L</sub>(SSE<sub>L</sub>) + n<sub>R</sub>(SSE<sub>R</sub>)) / n<sub>T</sub>"
   ]
  },
  {
   "cell_type": "code",
   "execution_count": null,
   "metadata": {
    "collapsed": true
   },
   "outputs": [],
   "source": []
  },
  {
   "cell_type": "markdown",
   "metadata": {},
   "source": [
    "# Maximum Margin Classifier"
   ]
  },
  {
   "cell_type": "markdown",
   "metadata": {},
   "source": [
    "want the maximum margin between line(decision boundary) and nearest points. Margin on top of line and bottom of line must be the same"
   ]
  },
  {
   "cell_type": "markdown",
   "metadata": {},
   "source": [
    "if equation is y=c<sub>1</sub>x<sup>1</sup> + c<sub>2</sub>x<sup>2</sup> + c<sub>3</sub> + 0 <br>\n",
    "then goal: Select c<sub>1</sub> ,c<sub>2</sub> , c<sub>3</sub> <br>\n",
    "such that the line separates the classes and the margin M is maximized"
   ]
  },
  {
   "cell_type": "code",
   "execution_count": null,
   "metadata": {
    "collapsed": true
   },
   "outputs": [],
   "source": []
  },
  {
   "cell_type": "markdown",
   "metadata": {},
   "source": [
    "# Support Vector Classifier"
   ]
  },
  {
   "cell_type": "markdown",
   "metadata": {},
   "source": [
    "if points are in the street or on the wrong side of the decision boundary they are in violation<br>\n",
    "calculate distance of the points in violation to the side they belong in to find error(E)<br>\n",
    "goal: maximize margin - M while adhering to sum(E) < C <br>\n",
    "where C is the allowed margin violation"
   ]
  },
  {
   "cell_type": "markdown",
   "metadata": {},
   "source": []
  },
  {
   "cell_type": "markdown",
   "metadata": {},
   "source": [
    "# Support Vector Machines"
   ]
  },
  {
   "cell_type": "markdown",
   "metadata": {},
   "source": []
  },
  {
   "cell_type": "code",
   "execution_count": null,
   "metadata": {
    "collapsed": true
   },
   "outputs": [],
   "source": []
  }
 ],
 "metadata": {
  "kernelspec": {
   "display_name": "Python 3",
   "language": "python",
   "name": "python3"
  },
  "language_info": {
   "codemirror_mode": {
    "name": "ipython",
    "version": 3
   },
   "file_extension": ".py",
   "mimetype": "text/x-python",
   "name": "python",
   "nbconvert_exporter": "python",
   "pygments_lexer": "ipython3",
   "version": "3.6.3"
  }
 },
 "nbformat": 4,
 "nbformat_minor": 2
}
