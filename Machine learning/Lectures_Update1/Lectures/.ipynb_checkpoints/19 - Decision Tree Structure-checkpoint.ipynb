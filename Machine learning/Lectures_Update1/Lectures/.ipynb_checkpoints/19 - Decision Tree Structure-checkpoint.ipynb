{
 "cells": [
  {
   "cell_type": "markdown",
   "metadata": {},
   "source": [
    "# Markdown cell"
   ]
  },
  {
   "cell_type": "code",
   "execution_count": 1,
   "metadata": {
    "collapsed": true
   },
   "outputs": [],
   "source": [
    "import numpy as np"
   ]
  },
  {
   "cell_type": "markdown",
   "metadata": {},
   "source": [
    "## V01 - Select Points at Random"
   ]
  },
  {
   "cell_type": "code",
   "execution_count": 44,
   "metadata": {
    "collapsed": true
   },
   "outputs": [],
   "source": [
    "class RandomTree:\n",
    "    \n",
    "    def __init__(self, X, y, max_depth=2, depth=0, min_leaf_size=1):\n",
    "        \n",
    "        self.X = np.array(X)\n",
    "        self.y = np.array(y)\n",
    "        self.n = len(y)\n",
    "        self.depth = depth\n",
    "        \n",
    "        #self.classes\n",
    "        #self.class_counts\n",
    "        #self.predictions\n",
    "        #self.gini\n",
    "        \n",
    "        #self.axis\n",
    "        #self.t\n",
    "        \n",
    "        if depth == max_depth:\n",
    "            self.left = None\n",
    "            self.right = None\n",
    "            return\n",
    "        \n",
    "        \n",
    "        # Random split points\n",
    "        sel = np.random.choice([True, False], self.n)\n",
    "        \n",
    "        if np.sum(sel)<min_leaf_size or np.sum(~sel)<min_leaf_size:\n",
    "            self.left=None\n",
    "            self.right=None\n",
    "            return\n",
    "        \n",
    "        \n",
    "        self.left = RandomTree(X[sel,:], y[sel], max_depth, depth+1, min_leaf_size)\n",
    "        self.right = RandomTree(X[~sel,:], y[~sel], max_depth, depth+1, min_leaf_size)\n",
    "    \n",
    "    def print_tree(self):\n",
    "        \n",
    "        msg = '  ' *self.depth + '* Size = ' + str(self.n)\n",
    "        print(msg)\n",
    "        \n",
    "        \n",
    "        if self.left != None:\n",
    "            self.left.print_tree()\n",
    "            self.right.print_tree()\n",
    "            \n",
    "            "
   ]
  },
  {
   "cell_type": "code",
   "execution_count": 56,
   "metadata": {
    "collapsed": true
   },
   "outputs": [],
   "source": [
    "np.random.seed(1)\n",
    "n=1000\n",
    "X= np.random.uniform(0,10,5*n).reshape(n,5)\n",
    "y= np.random.choice(['a','b','c'], n)"
   ]
  },
  {
   "cell_type": "code",
   "execution_count": 52,
   "metadata": {
    "collapsed": true
   },
   "outputs": [],
   "source": [
    "tree_mod = RandomTree(X, y, max_depth=4, min_leaf_size=120)"
   ]
  },
  {
   "cell_type": "code",
   "execution_count": 53,
   "metadata": {},
   "outputs": [
    {
     "name": "stdout",
     "output_type": "stream",
     "text": [
      "* Size = 1000\n",
      "  * Size = 517\n",
      "    * Size = 255\n",
      "      * Size = 131\n",
      "      * Size = 124\n",
      "    * Size = 262\n",
      "      * Size = 141\n",
      "      * Size = 121\n",
      "  * Size = 483\n",
      "    * Size = 243\n",
      "    * Size = 240\n"
     ]
    }
   ],
   "source": [
    "tree_mod.print_tree()"
   ]
  },
  {
   "cell_type": "markdown",
   "metadata": {
    "collapsed": true
   },
   "source": [
    "## V02 - select Cut at Random"
   ]
  },
  {
   "cell_type": "code",
   "execution_count": 57,
   "metadata": {
    "collapsed": true
   },
   "outputs": [],
   "source": [
    "class RandomTree:\n",
    "    \n",
    "    def __init__(self, X, y, max_depth=2, depth=0, min_leaf_size=1):\n",
    "        \n",
    "        self.X = np.array(X)\n",
    "        self.y = np.array(y)\n",
    "        self.n = len(y)\n",
    "        self.depth = depth\n",
    "        \n",
    "        #self.classes\n",
    "        #self.class_counts\n",
    "        #self.predictions\n",
    "        #self.gini\n",
    "        \n",
    "\n",
    "        \n",
    "        if depth == max_depth:\n",
    "            self.left = None\n",
    "            self.right = None\n",
    "            self.axis = None\n",
    "            self.t = None\n",
    "            return\n",
    "        \n",
    "        \n",
    "        # create a random cut\n",
    "        self.axis = np.random.choice(range[self.X.shape[1]])\n",
    "        self.t = np.random.uniform(np.min(self.X[:,self.axis]),np.max(self.X[:,self.axis]))\n",
    "        \n",
    "        sel = self.X[:,self.axis] <= self.t\n",
    "        \n",
    "        if np.sum(sel)<min_leaf_size or np.sum(~sel)<min_leaf_size:\n",
    "            self.axis= None\n",
    "            self.t=None\n",
    "            self.left=None\n",
    "            self.right=None\n",
    "            return\n",
    "        \n",
    "        \n",
    "        self.left = RandomTree(X[sel,:], y[sel], max_depth, depth+1, min_leaf_size)\n",
    "        self.right = RandomTree(X[~sel,:], y[~sel], max_depth, depth+1, min_leaf_size)\n",
    "    \n",
    "    def print_tree(self):\n",
    "        \n",
    "        msg = '  ' *self.depth + '* Size = ' + str(self.n)\n",
    "        \n",
    "        if(self.axis !=None):\n",
    "            msg += ', Axis = '+ str(self.axis)+', t = '+str(round(self.t,2))\n",
    "        print(msg)\n",
    "        \n",
    "        \n",
    "        if self.left != None:\n",
    "            self.left.print_tree()\n",
    "            self.right.print_tree()\n",
    "            \n",
    "            "
   ]
  },
  {
   "cell_type": "code",
   "execution_count": null,
   "metadata": {
    "collapsed": true
   },
   "outputs": [],
   "source": []
  },
  {
   "cell_type": "code",
   "execution_count": 58,
   "metadata": {},
   "outputs": [
    {
     "ename": "TypeError",
     "evalue": "'type' object is not subscriptable",
     "output_type": "error",
     "traceback": [
      "\u001b[1;31m---------------------------------------------------------------------------\u001b[0m",
      "\u001b[1;31mTypeError\u001b[0m                                 Traceback (most recent call last)",
      "\u001b[1;32m<ipython-input-58-fdf80793d701>\u001b[0m in \u001b[0;36m<module>\u001b[1;34m()\u001b[0m\n\u001b[1;32m----> 1\u001b[1;33m \u001b[0mtree_mod\u001b[0m \u001b[1;33m=\u001b[0m \u001b[0mRandomTree\u001b[0m\u001b[1;33m(\u001b[0m\u001b[0mX\u001b[0m\u001b[1;33m,\u001b[0m \u001b[0my\u001b[0m\u001b[1;33m,\u001b[0m \u001b[0mmax_depth\u001b[0m\u001b[1;33m=\u001b[0m\u001b[1;36m4\u001b[0m\u001b[1;33m,\u001b[0m \u001b[0mmin_leaf_size\u001b[0m\u001b[1;33m=\u001b[0m\u001b[1;36m10\u001b[0m\u001b[1;33m)\u001b[0m\u001b[1;33m\u001b[0m\u001b[0m\n\u001b[0m\u001b[0;32m      2\u001b[0m \u001b[0mtree_mod\u001b[0m\u001b[1;33m.\u001b[0m\u001b[0mprint_tree\u001b[0m\u001b[1;33m(\u001b[0m\u001b[1;33m)\u001b[0m\u001b[1;33m\u001b[0m\u001b[0m\n",
      "\u001b[1;32m<ipython-input-57-4d0dc2e121d1>\u001b[0m in \u001b[0;36m__init__\u001b[1;34m(self, X, y, max_depth, depth, min_leaf_size)\u001b[0m\n\u001b[0;32m     24\u001b[0m \u001b[1;33m\u001b[0m\u001b[0m\n\u001b[0;32m     25\u001b[0m         \u001b[1;31m# create a random cut\u001b[0m\u001b[1;33m\u001b[0m\u001b[1;33m\u001b[0m\u001b[0m\n\u001b[1;32m---> 26\u001b[1;33m         \u001b[0mself\u001b[0m\u001b[1;33m.\u001b[0m\u001b[0maxis\u001b[0m \u001b[1;33m=\u001b[0m \u001b[0mnp\u001b[0m\u001b[1;33m.\u001b[0m\u001b[0mrandom\u001b[0m\u001b[1;33m.\u001b[0m\u001b[0mchoice\u001b[0m\u001b[1;33m(\u001b[0m\u001b[0mrange\u001b[0m\u001b[1;33m[\u001b[0m\u001b[0mself\u001b[0m\u001b[1;33m.\u001b[0m\u001b[0mX\u001b[0m\u001b[1;33m.\u001b[0m\u001b[0mshape\u001b[0m\u001b[1;33m[\u001b[0m\u001b[1;36m1\u001b[0m\u001b[1;33m]\u001b[0m\u001b[1;33m]\u001b[0m\u001b[1;33m)\u001b[0m\u001b[1;33m\u001b[0m\u001b[0m\n\u001b[0m\u001b[0;32m     27\u001b[0m         \u001b[0mself\u001b[0m\u001b[1;33m.\u001b[0m\u001b[0mt\u001b[0m \u001b[1;33m=\u001b[0m \u001b[0mnp\u001b[0m\u001b[1;33m.\u001b[0m\u001b[0mrandom\u001b[0m\u001b[1;33m.\u001b[0m\u001b[0muniform\u001b[0m\u001b[1;33m(\u001b[0m\u001b[0mnp\u001b[0m\u001b[1;33m.\u001b[0m\u001b[0mmin\u001b[0m\u001b[1;33m(\u001b[0m\u001b[0mself\u001b[0m\u001b[1;33m.\u001b[0m\u001b[0mX\u001b[0m\u001b[1;33m[\u001b[0m\u001b[1;33m:\u001b[0m\u001b[1;33m,\u001b[0m\u001b[0mself\u001b[0m\u001b[1;33m.\u001b[0m\u001b[0maxis\u001b[0m\u001b[1;33m]\u001b[0m\u001b[1;33m)\u001b[0m\u001b[1;33m,\u001b[0m\u001b[0mnp\u001b[0m\u001b[1;33m.\u001b[0m\u001b[0mmax\u001b[0m\u001b[1;33m(\u001b[0m\u001b[0mself\u001b[0m\u001b[1;33m.\u001b[0m\u001b[0mX\u001b[0m\u001b[1;33m[\u001b[0m\u001b[1;33m:\u001b[0m\u001b[1;33m,\u001b[0m\u001b[0mself\u001b[0m\u001b[1;33m.\u001b[0m\u001b[0maxis\u001b[0m\u001b[1;33m]\u001b[0m\u001b[1;33m)\u001b[0m\u001b[1;33m)\u001b[0m\u001b[1;33m\u001b[0m\u001b[0m\n\u001b[0;32m     28\u001b[0m \u001b[1;33m\u001b[0m\u001b[0m\n",
      "\u001b[1;31mTypeError\u001b[0m: 'type' object is not subscriptable"
     ]
    }
   ],
   "source": [
    "tree_mod = RandomTree(X, y, max_depth=4, min_leaf_size=10)\n",
    "tree_mod.print_tree()"
   ]
  },
  {
   "cell_type": "code",
   "execution_count": null,
   "metadata": {
    "collapsed": true
   },
   "outputs": [],
   "source": []
  },
  {
   "cell_type": "code",
   "execution_count": null,
   "metadata": {
    "collapsed": true
   },
   "outputs": [],
   "source": []
  },
  {
   "cell_type": "code",
   "execution_count": null,
   "metadata": {
    "collapsed": true
   },
   "outputs": [],
   "source": []
  },
  {
   "cell_type": "code",
   "execution_count": null,
   "metadata": {
    "collapsed": true
   },
   "outputs": [],
   "source": []
  }
 ],
 "metadata": {
  "kernelspec": {
   "display_name": "Python 3",
   "language": "python",
   "name": "python3"
  },
  "language_info": {
   "codemirror_mode": {
    "name": "ipython",
    "version": 3
   },
   "file_extension": ".py",
   "mimetype": "text/x-python",
   "name": "python",
   "nbconvert_exporter": "python",
   "pygments_lexer": "ipython3",
   "version": "3.6.3"
  }
 },
 "nbformat": 4,
 "nbformat_minor": 2
}
