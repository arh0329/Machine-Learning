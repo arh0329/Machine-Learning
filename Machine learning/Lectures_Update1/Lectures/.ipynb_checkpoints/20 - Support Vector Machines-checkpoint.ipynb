{
 "cells": [
  {
   "cell_type": "markdown",
   "metadata": {},
   "source": [
    "# Lesson 20 - Support Vector Machines\n",
    "\n"
   ]
  },
  {
   "cell_type": "code",
   "execution_count": 2,
   "metadata": {
    "collapsed": true
   },
   "outputs": [],
   "source": [
    "import numpy as np\n",
    "import matplotlib.pyplot as plt\n",
    "from sklearn.svm import SVC\n",
    "\n",
    "import MLUtilities as mlu\n",
    "from ipywidgets import *\n",
    "from sklearn.datasets import make_blobs, make_classification, make_gaussian_quantiles, make_moons, make_circles"
   ]
  },
  {
   "cell_type": "markdown",
   "metadata": {},
   "source": [
    "## Example 1"
   ]
  },
  {
   "cell_type": "code",
   "execution_count": 3,
   "metadata": {},
   "outputs": [
    {
     "data": {
      "image/png": "[encoded data removed]",
      "text/plain": [
       "<matplotlib.figure.Figure at 0xa5dcb70>"
      ]
     },
     "metadata": {},
     "output_type": "display_data"
    }
   ],
   "source": [
    "np.random.seed(1752)\n",
    "X, y = make_classification(n_samples=100, n_features=2, n_informative=2, n_redundant=0, n_classes=2, \n",
    "                           n_clusters_per_class=1, class_sep = 1.5)\n",
    "\n",
    "plt.figure(figsize = [8,6])\n",
    "plt.scatter(X[:, 0], X[:, 1], marker='o', c=y, s=50, edgecolor='k', cmap='rainbow')\n",
    "plt.show()"
   ]
  },
  {
   "cell_type": "code",
   "execution_count": null,
   "metadata": {
    "collapsed": true,
    "scrolled": false
   },
   "outputs": [],
   "source": [
    "mod = SVC(C=2, kernel='linear')\n",
    "mod.fit(X,y)\n",
    "\n",
    "mlu.plot_regions(mod, X, y, 200)"
   ]
  },
  {
   "cell_type": "code",
   "execution_count": null,
   "metadata": {
    "collapsed": true
   },
   "outputs": [],
   "source": [
    "mod = SVC(C=2, kernel='poly', degree = 2)\n",
    "mod.fit(X,y)\n",
    "\n",
    "mlu.plot_regions(mod, X, y, 200)"
   ]
  },
  {
   "cell_type": "code",
   "execution_count": null,
   "metadata": {
    "collapsed": true
   },
   "outputs": [],
   "source": [
    "np.random.seed(1752)\n",
    "X, y = make_classification(n_samples=100, n_features=2, n_informative=2, n_redundant=0, n_classes=2, \n",
    "                           n_clusters_per_class=1, class_sep = 1.5)\n",
    "\n",
    "\n",
    "C = FloatSlider(min=0.01, max=5, step=0.01, value=5, description = 'C', \n",
    "                    continuous_update=False, layout=Layout(width='275px'))\n",
    "\n",
    "def svm_plot(C):\n",
    "\n",
    "    mod = SVC(C=C, kernel='linear')\n",
    "    mod.fit(X,y)\n",
    "    mlu.plot_regions(mod, X, y, 200, display=False)\n",
    "    \n",
    "    \n",
    "    plt.scatter(mod.support_vectors_[:, 0], mod.support_vectors_[:, 1], s=300,  linewidth=1, edgecolors='k', \n",
    "            zorder=4, facecolors='none')\n",
    "    xticks = np.linspace(np.min(X[:,0]), np.max(X[:,0]), 100)\n",
    "    yticks = np.linspace(np.min(X[:,1]), np.max(X[:,1]), 100)\n",
    "    grid_pts = np.transpose([np.tile(xticks,100), np.repeat(yticks,100)])\n",
    "    P = mod.decision_function(grid_pts).reshape(100,100)\n",
    "    plt.contour(xticks, yticks, P, colors='k', levels=[-1,0,1], linestyles = ['--', '-', '--'], zorder = 4)\n",
    "    plt.show()\n",
    "\n",
    "\n",
    "cdict = {'C':C}\n",
    "plot_out = interactive_output(svm_plot, cdict)\n",
    "ui = VBox([C])\n",
    "display(HBox([ui, plot_out]))\n"
   ]
  },
  {
   "cell_type": "markdown",
   "metadata": {},
   "source": [
    "## Example 2"
   ]
  },
  {
   "cell_type": "code",
   "execution_count": null,
   "metadata": {
    "collapsed": true
   },
   "outputs": [],
   "source": [
    "np.random.seed(3158)\n",
    "X_temp, y = make_circles(n_samples=100, noise=0.2, factor=0.05)\n",
    "X = np.array([2*X_temp[:,0] + 6*X_temp[:,1],2*X_temp[:,0] - 3*X_temp[:,1]]).T\n",
    "\n",
    "plt.figure(figsize = [8,6])\n",
    "plt.scatter(X[:, 0], X[:, 1], marker='o', c=y, s=50, edgecolor='k', cmap='rainbow')\n",
    "plt.show()"
   ]
  },
  {
   "cell_type": "code",
   "execution_count": null,
   "metadata": {
    "collapsed": true
   },
   "outputs": [],
   "source": [
    "np.random.seed(3158)\n",
    "X_temp, y = make_circles(n_samples=100, noise=0.2, factor=0.05)\n",
    "X = np.array([2*X_temp[:,0] + 6*X_temp[:,1],2*X_temp[:,0] - 3*X_temp[:,1]]).T\n",
    "\n",
    "D = IntSlider(min=1, max=4, step=1, value=1, description = 'D', \n",
    "                    continuous_update=False, layout=Layout(width='275px'))\n",
    "C = FloatSlider(min=0.01, max=20, step=0.01, value=20, description = 'C', \n",
    "                    continuous_update=False, layout=Layout(width='275px'))\n",
    "s1 = Checkbox(value=False, description='Show Margins', disable=False)\n",
    "s2 = Checkbox(value=False, description='Show Support', disable=False)\n",
    "\n",
    "def svm_plot(D, C, s1, s2):\n",
    "\n",
    "    mod = SVC(C=C, kernel='poly', degree=D)\n",
    "    mod.fit(X,y)\n",
    "    mlu.plot_regions(mod, X, y, 200, display=False)\n",
    "    \n",
    "    if(s2):\n",
    "        plt.scatter(mod.support_vectors_[:, 0], mod.support_vectors_[:, 1], s=300,  linewidth=1, \n",
    "                    edgecolors='k', zorder=4, facecolors='none')\n",
    "    \n",
    "    if(s1):\n",
    "        xticks = np.linspace(np.min(X[:,0]), np.max(X[:,0]), 100)\n",
    "        yticks = np.linspace(np.min(X[:,1]), np.max(X[:,1]), 100)\n",
    "        grid_pts = np.transpose([np.tile(xticks,100), np.repeat(yticks,100)])\n",
    "        P = mod.decision_function(grid_pts).reshape(100,100)\n",
    "        plt.contour(xticks, yticks, P, colors='k', levels=[-1,0,1], \n",
    "                    linestyles = ['--', '-', '--'], zorder = 4)\n",
    "        \n",
    "    plt.show()\n",
    "\n",
    "\n",
    "cdict = {'D':D, 'C':C, 's1':s1, 's2':s2}\n",
    "plot_out = interactive_output(svm_plot, cdict)\n",
    "ui = VBox([D, C, s1, s2])\n",
    "display(HBox([ui, plot_out]))"
   ]
  },
  {
   "cell_type": "markdown",
   "metadata": {
    "collapsed": true
   },
   "source": [
    "## Example 3"
   ]
  },
  {
   "cell_type": "code",
   "execution_count": null,
   "metadata": {
    "collapsed": true
   },
   "outputs": [],
   "source": [
    "sd = np.random.choice(range(9999))\n",
    "print(sd)\n",
    "np.random.seed(159)\n",
    "X, y = make_moons(n_samples=100, noise=0.1)\n",
    "\n",
    "plt.figure(figsize = [8,6])\n",
    "plt.scatter(X[:, 0], X[:, 1], marker='o', c=y, s=50, edgecolor='k', cmap='rainbow')\n",
    "plt.show()"
   ]
  },
  {
   "cell_type": "code",
   "execution_count": null,
   "metadata": {
    "collapsed": true
   },
   "outputs": [],
   "source": [
    "np.random.seed(159)\n",
    "X, y = make_moons(n_samples=100, noise=0.1)\n",
    "\n",
    "D = IntSlider(min=1, max=10, step=1, value=1, description = 'D', \n",
    "                    continuous_update=False, layout=Layout(width='275px'))\n",
    "C = FloatSlider(min=0.01, max=100, step=0.01, value=20, description = 'C', \n",
    "                    continuous_update=False, layout=Layout(width='275px'))\n",
    "G = FloatSlider(min=0.01, max=100, step=0.01, value=0.5, description = 'G', \n",
    "                    continuous_update=False, layout=Layout(width='275px'))\n",
    "\n",
    "s1 = Checkbox(value=False, description='Show Margins', disable=False)\n",
    "s2 = Checkbox(value=False, description='Show Support', disable=False)\n",
    "s3 = Checkbox(value=False, description='RBF Kernel', disable=False)\n",
    "\n",
    "def svm_plot(D, C, G, s1, s2, s3):\n",
    "\n",
    "    mapping = 'poly'\n",
    "    if(s3):\n",
    "        mapping = 'rbf'\n",
    "        \n",
    "    mod = SVC(C=C, kernel=mapping, degree=D, gamma=G)\n",
    "    mod.fit(X,y)\n",
    "    mlu.plot_regions(mod, X, y, 200, display=False)\n",
    "    \n",
    "    if(s2):\n",
    "        plt.scatter(mod.support_vectors_[:, 0], mod.support_vectors_[:, 1], s=300,  linewidth=1, \n",
    "                    edgecolors='k', zorder=4, facecolors='none')\n",
    "    \n",
    "    if(s1):\n",
    "        xticks = np.linspace(np.min(X[:,0]), np.max(X[:,0]), 100)\n",
    "        yticks = np.linspace(np.min(X[:,1]), np.max(X[:,1]), 100)\n",
    "        grid_pts = np.transpose([np.tile(xticks,100), np.repeat(yticks,100)])\n",
    "        P = mod.decision_function(grid_pts).reshape(100,100)\n",
    "        plt.contour(xticks, yticks, P, colors='k', levels=[-1,0,1], \n",
    "                    linestyles = ['--', '-', '--'], zorder = 4)\n",
    "        \n",
    "    plt.show()\n",
    "\n",
    "\n",
    "cdict = {'D':D, 'C':C, 'G':G, 's1':s1, 's2':s2, 's3':s3}\n",
    "plot_out = interactive_output(svm_plot, cdict)\n",
    "ui = VBox([D, C, G, s1, s2, s3])\n",
    "display(HBox([ui, plot_out]))"
   ]
  },
  {
   "cell_type": "markdown",
   "metadata": {},
   "source": [
    "## Example 4"
   ]
  },
  {
   "cell_type": "code",
   "execution_count": null,
   "metadata": {
    "collapsed": true
   },
   "outputs": [],
   "source": [
    "np.random.seed(7530)\n",
    "X, y = make_blobs(n_samples=100, centers=6, n_features=2, cluster_std=2)\n",
    "y = np.where(y%2 == 0, 0, np.where(y%2 == 1, 1, y))\n",
    "\n",
    "\n",
    "plt.figure(figsize = [8,6])\n",
    "plt.scatter(X[:, 0], X[:, 1], marker='o', c=y, s=50, edgecolor='k', cmap='rainbow')\n",
    "plt.show()"
   ]
  },
  {
   "cell_type": "code",
   "execution_count": null,
   "metadata": {
    "collapsed": true,
    "scrolled": false
   },
   "outputs": [],
   "source": [
    "np.random.seed(7530)\n",
    "X, y = make_blobs(n_samples=100, centers=6, n_features=2, cluster_std=2)\n",
    "y = np.where(y%2 == 0, 0, np.where(y%2 == 1, 1, y))\n",
    "\n",
    "D = IntSlider(min=1, max=5, step=1, value=1, description = 'D', \n",
    "                    continuous_update=False, layout=Layout(width='275px'))\n",
    "C = FloatSlider(min=0.01, max=5, step=0.01, value=0.05, description = 'C', \n",
    "                    continuous_update=False, layout=Layout(width='275px'))\n",
    "G = FloatSlider(min=0.01, max=5, step=0.01, value=0.5, description = 'G', \n",
    "                    continuous_update=False, layout=Layout(width='275px'))\n",
    "\n",
    "s1 = Checkbox(value=False, description='Show Margins', disable=False)\n",
    "s2 = Checkbox(value=False, description='Show Support', disable=False)\n",
    "s3 = Checkbox(value=False, description='RBF Kernel', disable=False)\n",
    "\n",
    "def svm_plot(D, C, G, s1, s2, s3):\n",
    "\n",
    "    mapping = 'poly'\n",
    "    if(s3):\n",
    "        mapping = 'rbf'\n",
    "        \n",
    "    mod = SVC(C=C, kernel=mapping, degree=D, gamma=G)\n",
    "    mod.fit(X,y)\n",
    "    mlu.plot_regions(mod, X, y, 200, display=False)\n",
    "    \n",
    "    if(s2):\n",
    "        plt.scatter(mod.support_vectors_[:, 0], mod.support_vectors_[:, 1], s=300,  linewidth=1, \n",
    "                    edgecolors='k', zorder=4, facecolors='none')\n",
    "    \n",
    "    if(s1):\n",
    "        xticks = np.linspace(np.min(X[:,0]), np.max(X[:,0]), 100)\n",
    "        yticks = np.linspace(np.min(X[:,1]), np.max(X[:,1]), 100)\n",
    "        grid_pts = np.transpose([np.tile(xticks,100), np.repeat(yticks,100)])\n",
    "        P = mod.decision_function(grid_pts).reshape(100,100)\n",
    "        plt.contour(xticks, yticks, P, colors='k', levels=[-1,0,1], \n",
    "                    linestyles = ['--', '-', '--'], zorder = 4)\n",
    "        \n",
    "    plt.show()\n",
    "\n",
    "\n",
    "cdict = {'D':D, 'C':C, 'G':G, 's1':s1, 's2':s2, 's3':s3}\n",
    "plot_out = interactive_output(svm_plot, cdict)\n",
    "ui = VBox([D, C, G, s1, s2, s3])\n",
    "display(HBox([ui, plot_out]))"
   ]
  },
  {
   "cell_type": "markdown",
   "metadata": {},
   "source": [
    "## Example 5"
   ]
  },
  {
   "cell_type": "code",
   "execution_count": null,
   "metadata": {
    "collapsed": true
   },
   "outputs": [],
   "source": [
    "sd = np.random.choice(range(9999))\n",
    "print(sd)\n",
    "np.random.seed(sd)\n",
    "X, y = make_gaussian_quantiles(n_features=2, n_classes=3)\n",
    "\n",
    "plt.figure(figsize = [8,6])\n",
    "plt.scatter(X[:, 0], X[:, 1], marker='o', c=y, s=50, edgecolor='k', cmap='rainbow')\n",
    "plt.show()\n"
   ]
  },
  {
   "cell_type": "code",
   "execution_count": null,
   "metadata": {
    "collapsed": true
   },
   "outputs": [],
   "source": [
    "np.random.seed(159)\n",
    "X, y = make_gaussian_quantiles(n_features=2, n_classes=3)\n",
    "\n",
    "D = IntSlider(min=1, max=10, step=1, value=1, description = 'D', \n",
    "                    continuous_update=False, layout=Layout(width='275px'))\n",
    "C = FloatSlider(min=0.01, max=20, step=0.01, value=20, description = 'C', \n",
    "                    continuous_update=False, layout=Layout(width='275px'))\n",
    "G = FloatSlider(min=0.01, max=100, step=0.01, value=0.5, description = 'G', \n",
    "                    continuous_update=False, layout=Layout(width='275px'))\n",
    "\n",
    "s2 = Checkbox(value=False, description='Show Support', disable=False)\n",
    "s3 = Checkbox(value=False, description='RBF Kernel', disable=False)\n",
    "\n",
    "def svm_plot(D, C, G, s2, s3):\n",
    "\n",
    "    mapping = 'poly'\n",
    "    if(s3):\n",
    "        mapping = 'rbf'\n",
    "        \n",
    "    mod = SVC(C=C, kernel=mapping, degree=D, gamma=G)\n",
    "    mod.fit(X,y)\n",
    "    mlu.plot_regions(mod, X, y, 300, display=False)\n",
    "    \n",
    "    if(s2):\n",
    "        plt.scatter(mod.support_vectors_[:, 0], mod.support_vectors_[:, 1], s=300,  linewidth=1, \n",
    "                    edgecolors='k', zorder=4, facecolors='none')\n",
    "    \n",
    "    plt.show()\n",
    "\n",
    "\n",
    "cdict = {'D':D, 'C':C, 'G':G, 's2':s2, 's3':s3}\n",
    "plot_out = interactive_output(svm_plot, cdict)\n",
    "ui = VBox([D, C, G, s2, s3])\n",
    "display(HBox([ui, plot_out]))"
   ]
  },
  {
   "cell_type": "markdown",
   "metadata": {
    "collapsed": true
   },
   "source": [
    "## Example 6"
   ]
  },
  {
   "cell_type": "code",
   "execution_count": null,
   "metadata": {
    "collapsed": true
   },
   "outputs": [],
   "source": [
    "sd = np.random.choice(range(9999))\n",
    "print(sd)\n",
    "np.random.seed(sd)\n",
    "X, y = make_blobs(n_samples=100, centers=6, n_features=2, cluster_std=2)\n",
    "y = np.where(y%3 == 0, 0, np.where(y%3 == 1, 1, np.where(y%3 == 2, 2, y)))\n",
    "\n",
    "\n",
    "plt.figure(figsize = [8,6])\n",
    "plt.scatter(X[:, 0], X[:, 1], marker='o', c=y, s=50, edgecolor='k', cmap='rainbow')\n",
    "plt.show()"
   ]
  },
  {
   "cell_type": "code",
   "execution_count": null,
   "metadata": {
    "collapsed": true
   },
   "outputs": [],
   "source": [
    "np.random.seed(2064)\n",
    "X, y = make_blobs(n_samples=100, centers=6, n_features=2, cluster_std=2)\n",
    "y = np.where(y%3 == 0, 0, np.where(y%3 == 1, 1, np.where(y%3 == 2, 2, y)))\n",
    "\n",
    "D = IntSlider(min=1, max=5, step=1, value=1, description = 'D', \n",
    "                    continuous_update=False, layout=Layout(width='275px'))\n",
    "C = FloatSlider(min=0.01, max=5, step=0.01, value=0.05, description = 'C', \n",
    "                    continuous_update=False, layout=Layout(width='275px'))\n",
    "G = FloatSlider(min=0.01, max=5, step=0.01, value=0.5, description = 'G', \n",
    "                    continuous_update=False, layout=Layout(width='275px'))\n",
    "\n",
    "s2 = Checkbox(value=False, description='Show Support', disable=False)\n",
    "s3 = Checkbox(value=False, description='RBF Kernel', disable=False)\n",
    "\n",
    "def svm_plot(D, C, G, s2, s3):\n",
    "\n",
    "    mapping = 'poly'\n",
    "    if(s3):\n",
    "        mapping = 'rbf'\n",
    "        \n",
    "    mod = SVC(C=C, kernel=mapping, degree=D, gamma=G)\n",
    "    mod.fit(X,y)\n",
    "    mlu.plot_regions(mod, X, y, 200, display=False)\n",
    "    \n",
    "    if(s2):\n",
    "        plt.scatter(mod.support_vectors_[:, 0], mod.support_vectors_[:, 1], s=300,  linewidth=1, \n",
    "                    edgecolors='k', zorder=4, facecolors='none')\n",
    "        \n",
    "    plt.show()\n",
    "\n",
    "\n",
    "cdict = {'D':D, 'C':C, 'G':G, 's2':s2, 's3':s3}\n",
    "plot_out = interactive_output(svm_plot, cdict)\n",
    "ui = VBox([D, C, G, s2, s3])\n",
    "display(HBox([ui, plot_out]))"
   ]
  },
  {
   "cell_type": "code",
   "execution_count": null,
   "metadata": {
    "collapsed": true
   },
   "outputs": [],
   "source": []
  },
  {
   "cell_type": "code",
   "execution_count": null,
   "metadata": {
    "collapsed": true
   },
   "outputs": [],
   "source": []
  },
  {
   "cell_type": "code",
   "execution_count": null,
   "metadata": {
    "collapsed": true
   },
   "outputs": [],
   "source": []
  },
  {
   "cell_type": "code",
   "execution_count": null,
   "metadata": {
    "collapsed": true
   },
   "outputs": [],
   "source": []
  },
  {
   "cell_type": "code",
   "execution_count": null,
   "metadata": {
    "collapsed": true
   },
   "outputs": [],
   "source": []
  },
  {
   "cell_type": "code",
   "execution_count": null,
   "metadata": {
    "collapsed": true
   },
   "outputs": [],
   "source": []
  },
  {
   "cell_type": "code",
   "execution_count": null,
   "metadata": {
    "collapsed": true
   },
   "outputs": [],
   "source": []
  },
  {
   "cell_type": "code",
   "execution_count": null,
   "metadata": {
    "collapsed": true
   },
   "outputs": [],
   "source": []
  },
  {
   "cell_type": "code",
   "execution_count": null,
   "metadata": {
    "collapsed": true
   },
   "outputs": [],
   "source": []
  },
  {
   "cell_type": "code",
   "execution_count": null,
   "metadata": {
    "collapsed": true
   },
   "outputs": [],
   "source": []
  },
  {
   "cell_type": "code",
   "execution_count": null,
   "metadata": {
    "collapsed": true
   },
   "outputs": [],
   "source": []
  },
  {
   "cell_type": "code",
   "execution_count": null,
   "metadata": {
    "collapsed": true
   },
   "outputs": [],
   "source": []
  },
  {
   "cell_type": "code",
   "execution_count": null,
   "metadata": {
    "collapsed": true
   },
   "outputs": [],
   "source": []
  },
  {
   "cell_type": "code",
   "execution_count": null,
   "metadata": {
    "collapsed": true
   },
   "outputs": [],
   "source": []
  }
 ],
 "metadata": {
  "kernelspec": {
   "display_name": "Python 3",
   "language": "python",
   "name": "python3"
  },
  "language_info": {
   "codemirror_mode": {
    "name": "ipython",
    "version": 3
   },
   "file_extension": ".py",
   "mimetype": "text/x-python",
   "name": "python",
   "nbconvert_exporter": "python",
   "pygments_lexer": "ipython3",
   "version": "3.6.3"
  }
 },
 "nbformat": 4,
 "nbformat_minor": 2
}
