{
 "cells": [
  {
   "cell_type": "markdown",
   "metadata": {},
   "source": [
    "# Lesson 14 - K-Nearest Neighbors\n",
    "\n",
    "### The following topics are discussed in this notebook:\n",
    "* K-Nearest Neighbors Algorithm\n"
   ]
  },
  {
   "cell_type": "code",
   "execution_count": 1,
   "metadata": {
    "collapsed": true
   },
   "outputs": [],
   "source": [
    "import numpy as np\n",
    "import pandas as pd\n",
    "import matplotlib.pyplot as plt\n",
    "import matplotlib.colors\n",
    "import MLUtilities as mlu\n",
    "import ipywidgets as widgets"
   ]
  },
  {
   "cell_type": "markdown",
   "metadata": {},
   "source": [
    "## K-Nearest Neighbors Algorithm"
   ]
  },
  {
   "cell_type": "code",
   "execution_count": 10,
   "metadata": {
    "scrolled": false
   },
   "outputs": [
    {
     "data": {
      "image/png": "[encoded data removed]",
      "text/plain": [
       "<matplotlib.figure.Figure at 0xb563550>"
      ]
     },
     "metadata": {},
     "output_type": "display_data"
    }
   ],
   "source": [
    "np.random.seed(391)\n",
    "\n",
    "X = np.random.uniform(0,10,24).reshape(12,2)\n",
    "y = np.array(['red']*6 + ['blue']*6)\n",
    "\n",
    "plt.close()\n",
    "plt.rcParams[\"figure.figsize\"] = [6,6]\n",
    "plt.scatter(X[:6,0],X[:6,1], c='r')\n",
    "plt.scatter(X[6:,0],X[6:,1], c='b')\n",
    "plt.scatter([6],[4], c='k', marker='X', s=200)\n",
    "plt.show()"
   ]
  },
  {
   "cell_type": "markdown",
   "metadata": {},
   "source": [
    "### Preliminary: The argsort Function"
   ]
  },
  {
   "cell_type": "code",
   "execution_count": 3,
   "metadata": {},
   "outputs": [
    {
     "name": "stdout",
     "output_type": "stream",
     "text": [
      "[ 1.3  4.8  5.7  6.4  7.8]\n",
      "[3 2 1 4 0]\n"
     ]
    }
   ],
   "source": [
    "my_array = [7.8, 5.7, 4.8, 1.3, 6.4]\n",
    "print(np.sort(my_array))\n",
    "print(np.argsort(my_array))"
   ]
  },
  {
   "cell_type": "markdown",
   "metadata": {
    "scrolled": true
   },
   "source": [
    "## Classifiying a Single Point"
   ]
  },
  {
   "cell_type": "code",
   "execution_count": 16,
   "metadata": {},
   "outputs": [
    {
     "name": "stdout",
     "output_type": "stream",
     "text": [
      "The predicted class for the point [6 4] is \"red\".\n"
     ]
    }
   ],
   "source": [
    "#predict method in class\n",
    "\n",
    "P=np.array([6,4])\n",
    "K=4\n",
    "\n",
    "n= len(y)\n",
    "\n",
    "sq_distances = (P[0]-X[:,0])**2+(P[1]-X[:,1])**2 #find the distances between all points in array and point P\n",
    "\n",
    "idx = np.argsort(sq_distances)[:K] # find the indices of the smallest distances\n",
    "\n",
    "y_knn=y[idx] #find the labels for the above indices\n",
    "d_knn = sq_distances[idx]\n",
    "\n",
    "n_blue = np.sum(y_knn=='blue') #the number of blue votes\n",
    "n_red = np.sum(y_knn=='red') #the number of red votes\n",
    "\n",
    "dist_blue = np.sum(d_knn[y_knn=='blue']) #total distance of blue points\n",
    "dist_red = np.sum(d_knn[y_knn=='red']) #total distance of red points\n",
    "\n",
    "\n",
    "if(n_red>n_blue):\n",
    "    print('The predicted class for the point', P, 'is \"red\".')\n",
    "elif(n_blue>n_red):\n",
    "    print('The predicted class for the point', P, 'is \"blue\".')\n",
    "elif(dist_blue<dist_red):\n",
    "    print('The predicted class for the point', P, 'is \"blue\".')\n",
    "else:\n",
    "    print('The predicted class for the point', P, 'is \"red\".')\n",
    "\n"
   ]
  },
  {
   "cell_type": "markdown",
   "metadata": {},
   "source": [
    "## KNN in Scikit-Learn"
   ]
  },
  {
   "cell_type": "code",
   "execution_count": 17,
   "metadata": {
    "collapsed": true
   },
   "outputs": [],
   "source": [
    "from sklearn.neighbors import KNeighborsClassifier"
   ]
  },
  {
   "cell_type": "code",
   "execution_count": 21,
   "metadata": {
    "scrolled": false
   },
   "outputs": [
    {
     "data": {
      "image/png": "[encoded data removed]",
      "text/plain": [
       "<matplotlib.figure.Figure at 0xb1ef940>"
      ]
     },
     "metadata": {},
     "output_type": "display_data"
    }
   ],
   "source": [
    "mod = KNeighborsClassifier(n_neighbors=3) #create model of classifier\n",
    "mod.fit(X,y) #constructor simply stores X and y into the class\n",
    "\n",
    "mlu.plot_regions(mod, X, y, num_ticks=500)"
   ]
  },
  {
   "cell_type": "markdown",
   "metadata": {},
   "source": [
    "## The Effect of Changing K"
   ]
  },
  {
   "cell_type": "code",
   "execution_count": null,
   "metadata": {
    "collapsed": true
   },
   "outputs": [],
   "source": [
    "df = pd.read_table(filepath_or_buffer='Datasets\\knn_example.txt', sep='\\t')\n",
    "\n",
    "X = np.array(df.iloc[:,:2])\n",
    "y = np.array(df.iloc[:,2]).astype(int)\n",
    "\n",
    "plt.close()\n",
    "plt.rcParams[\"figure.figsize\"] = [8,6]\n",
    "plt.scatter(X[y==0,0],X[y==0,1], c='b', edgecolor='k')\n",
    "plt.scatter(X[y==1,0],X[y==1,1], c='r', edgecolor='k')\n",
    "plt.show()\n"
   ]
  },
  {
   "cell_type": "code",
   "execution_count": null,
   "metadata": {
    "collapsed": true
   },
   "outputs": [],
   "source": [
    "def knn_example(K):\n",
    "    mod = KNeighborsClassifier(K)\n",
    "    mod.fit(X,y)\n",
    "    mlu.plot_regions(mod, X, y)\n",
    "\n",
    "_ = widgets.interact(knn_example,\n",
    "                     K=widgets.IntSlider(min=1,max=400,step=1,value=1,continuous_update=False))"
   ]
  },
  {
   "cell_type": "markdown",
   "metadata": {
    "collapsed": true
   },
   "source": [
    "## Testing vs Training Accuracy in KNN"
   ]
  },
  {
   "cell_type": "code",
   "execution_count": null,
   "metadata": {
    "collapsed": true
   },
   "outputs": [],
   "source": [
    "from sklearn.model_selection import train_test_split"
   ]
  },
  {
   "cell_type": "code",
   "execution_count": null,
   "metadata": {
    "collapsed": true
   },
   "outputs": [],
   "source": [
    "X_train, X_test, y_train, y_test = train_test_split(X, y, test_size = 0.3, random_state = 1)\n",
    "\n",
    "knn = KNeighborsClassifier(3)\n",
    "knn.fit(X_train, y_train)\n",
    "\n",
    "print(\"Training Accuracy:\", knn.score(X_train,y_train))\n",
    "print(\"Testing Accuracy:\", knn.score(X_test,y_test))"
   ]
  },
  {
   "cell_type": "code",
   "execution_count": null,
   "metadata": {
    "collapsed": true
   },
   "outputs": [],
   "source": [
    "train_acc = []\n",
    "test_acc = []\n",
    "\n",
    "for i in range(1,101):\n",
    "    \n",
    "    knn = KNeighborsClassifier(i)\n",
    "    knn.fit(X_train, y_train)\n",
    "    train_acc.append(knn.score(X_train,y_train))\n",
    "    test_acc.append(knn.score(X_test,y_test))\n",
    "    \n",
    "plt.close()\n",
    "plt.rcParams[\"figure.figsize\"] = [12,8]\n",
    "plt.plot(train_acc, label=\"Training Accuracy\")\n",
    "plt.plot(test_acc, label=\"Testing Accuracy\")\n",
    "plt.legend(fontsize=16)\n",
    "plt.show()"
   ]
  },
  {
   "cell_type": "markdown",
   "metadata": {},
   "source": [
    "## Comparison between KNN and Logistic Regression"
   ]
  },
  {
   "cell_type": "code",
   "execution_count": null,
   "metadata": {
    "collapsed": true
   },
   "outputs": [],
   "source": [
    "np.random.seed(874)\n",
    "%run -i examples/example10.py"
   ]
  },
  {
   "cell_type": "code",
   "execution_count": null,
   "metadata": {
    "collapsed": true
   },
   "outputs": [],
   "source": [
    "%run -i examples/example11.py"
   ]
  },
  {
   "cell_type": "code",
   "execution_count": null,
   "metadata": {
    "collapsed": true
   },
   "outputs": [],
   "source": [
    "%run -i examples/example12.py"
   ]
  },
  {
   "cell_type": "markdown",
   "metadata": {},
   "source": [
    "## Multiclass Classification with KNN"
   ]
  },
  {
   "cell_type": "code",
   "execution_count": null,
   "metadata": {
    "collapsed": true
   },
   "outputs": [],
   "source": [
    "X, y = skds.make_classification(n_samples = 1000, n_classes = 4,\n",
    "                                n_features=2, n_redundant=0, \n",
    "                                n_informative=2, n_clusters_per_class=1)\n",
    "\n",
    "knn = KNeighborsClassifier(3)\n",
    "knn.fit(X, y)\n",
    "\n",
    "mlu.plot_regions(knn, X, y, 500)"
   ]
  },
  {
   "cell_type": "markdown",
   "metadata": {},
   "source": [
    "## Applying KNN to the Iris Dataset"
   ]
  },
  {
   "cell_type": "code",
   "execution_count": null,
   "metadata": {
    "collapsed": true
   },
   "outputs": [],
   "source": [
    "iris = pd.read_table(filepath_or_buffer='Datasets\\iris.txt', sep='\\t')\n",
    "iris.head(n=10)"
   ]
  },
  {
   "cell_type": "code",
   "execution_count": null,
   "metadata": {
    "collapsed": true
   },
   "outputs": [],
   "source": [
    "X = iris.iloc[:,:4]\n",
    "y = iris.iloc[:,4]\n",
    "\n",
    "plt.close()\n",
    "plt.rcParams[\"figure.figsize\"] = [8,6]\n",
    "plt.scatter(X.loc[y == 'setosa','Sepal.Length'], X.loc[y == 'setosa','Sepal.Width'], \n",
    "            c='purple', label='setosa', edgecolors='k')\n",
    "plt.scatter(X.loc[y == 'versicolor','Sepal.Length'], X.loc[y == 'versicolor','Sepal.Width'], \n",
    "            c='green', label='versicolor', edgecolors='k')\n",
    "plt.scatter(X.loc[y == 'virginica','Sepal.Length'], X.loc[y == 'virginica','Sepal.Width'], \n",
    "            c='red', label='virginica', edgecolors='k')\n",
    "plt.xlabel = 'Sepal Length'\n",
    "plt.xlabel = 'Sepal Width'\n",
    "plt.legend()\n",
    "plt.show()\n"
   ]
  },
  {
   "cell_type": "code",
   "execution_count": null,
   "metadata": {
    "collapsed": true
   },
   "outputs": [],
   "source": [
    "X_train, X_test, y_train, y_test = train_test_split(X, y, test_size = 0.3, random_state = 1)\n",
    "\n",
    "knn = KNeighborsClassifier(3)\n",
    "knn.fit(X_train.iloc[:,:2], y_train)\n",
    "\n",
    "mlu.plot_regions(knn, X_train.iloc[:,:2], y_train, 500)\n",
    "mlu.plot_regions(knn, X_test.iloc[:,:2], y_test, 500)"
   ]
  },
  {
   "cell_type": "code",
   "execution_count": null,
   "metadata": {
    "collapsed": true
   },
   "outputs": [],
   "source": [
    "print(\"Training Accuracy:\", knn.score(X_train.iloc[:,:2],y_train))\n",
    "print(\"Testing Accuracy:\", knn.score(X_test.iloc[:,:2],y_test))"
   ]
  },
  {
   "cell_type": "code",
   "execution_count": null,
   "metadata": {
    "collapsed": true
   },
   "outputs": [],
   "source": [
    "from sklearn.metrics import confusion_matrix, classification_report"
   ]
  },
  {
   "cell_type": "code",
   "execution_count": null,
   "metadata": {
    "collapsed": true
   },
   "outputs": [],
   "source": [
    "pred_test = knn.predict(X_test.iloc[:,:2])\n",
    "\n",
    "print(confusion_matrix(y_test, pred_test))"
   ]
  },
  {
   "cell_type": "code",
   "execution_count": null,
   "metadata": {
    "collapsed": true
   },
   "outputs": [],
   "source": [
    "print(classification_report(y_test, pred_test))"
   ]
  },
  {
   "cell_type": "markdown",
   "metadata": {
    "collapsed": true
   },
   "source": [
    "Now we will train the model using all four features. Our first priority is to select an appropriate value for K."
   ]
  },
  {
   "cell_type": "code",
   "execution_count": null,
   "metadata": {
    "collapsed": true
   },
   "outputs": [],
   "source": [
    "train_acc = []\n",
    "test_acc = []\n",
    "\n",
    "for i in range(1,50):\n",
    "    \n",
    "    knn = KNeighborsClassifier(i)\n",
    "    knn.fit(X_train, y_train)\n",
    "    train_acc.append(knn.score(X_train,y_train))\n",
    "    test_acc.append(knn.score(X_test,y_test))\n",
    "    \n",
    "plt.close()\n",
    "plt.rcParams[\"figure.figsize\"] = [12,8]\n",
    "plt.plot(train_acc, label=\"Training Accuracy\")\n",
    "plt.plot(test_acc, label=\"Testing Accuracy\")\n",
    "plt.legend(fontsize=16)\n",
    "plt.show()"
   ]
  },
  {
   "cell_type": "code",
   "execution_count": null,
   "metadata": {
    "collapsed": true
   },
   "outputs": [],
   "source": [
    "knn = KNeighborsClassifier(10)\n",
    "knn.fit(X_train, y_train)\n",
    "\n",
    "print(\"Training Accuracy:\", knn.score(X_train,y_train))\n",
    "print(\"Testing Accuracy:\", knn.score(X_test,y_test))"
   ]
  },
  {
   "cell_type": "code",
   "execution_count": null,
   "metadata": {
    "collapsed": true
   },
   "outputs": [],
   "source": [
    "pred_test = knn.predict(X_test)\n",
    "\n",
    "print(confusion_matrix(y_test, pred_test))"
   ]
  },
  {
   "cell_type": "code",
   "execution_count": null,
   "metadata": {
    "collapsed": true
   },
   "outputs": [],
   "source": [
    "print(classification_report(y_test, pred_test))"
   ]
  },
  {
   "cell_type": "markdown",
   "metadata": {},
   "source": [
    "## Pros and Cons of KNN \n",
    "\n",
    "**Pros**\n",
    "\n",
    "* Easy to understand. \n",
    "* Flexible (Although, one must be careful about overfitting.)\n",
    "* No time required to train. \n",
    "* Naturally adapts to multi-class classification.\n",
    "\n",
    "**Cons**\n",
    "\n",
    "* Making predictions is computationally intensive, and can be slow on a large dataset.\n",
    "* Model performance can be diminished when there are many dimensions. (Curse of dimensionality)\n",
    "* Requires a meaningful notion of distance in the feature space. \n",
    "* Generally requires features to be scaled/normalized. "
   ]
  },
  {
   "cell_type": "code",
   "execution_count": null,
   "metadata": {
    "collapsed": true
   },
   "outputs": [],
   "source": [
    "x1 = np.array([1, 2, 3, 4, 5, 6, 7])\n",
    "x2 = np.array([0.1, 0.2, 0.1, 0.2, 0.1, 0.2, 0.1])\n",
    "X = np.concatenate([x1.reshape(7,1), x2.reshape(7,1)], axis = 1)\n",
    "y = np.array([0,1,0,1,0,1,0])\n",
    "\n",
    "plt.close()\n",
    "plt.rcParams[\"figure.figsize\"] = [8,6]\n",
    "plt.scatter(x1[y==0], x2[y==0], c='b', edgecolors='k', s=80)\n",
    "plt.scatter(x1[y==1], x2[y==1], c='r', edgecolors='k', s=80)\n",
    "plt.show()"
   ]
  },
  {
   "cell_type": "code",
   "execution_count": null,
   "metadata": {
    "collapsed": true
   },
   "outputs": [],
   "source": [
    "knn = KNeighborsClassifier(3)\n",
    "knn.fit(X,y)\n",
    "mlu.plot_regions(knn, X, y)"
   ]
  },
  {
   "cell_type": "code",
   "execution_count": null,
   "metadata": {
    "collapsed": true
   },
   "outputs": [],
   "source": [
    "x1_rescaled = (x1 - np.min(x1)) / (np.max(x1) - np.min(x1))\n",
    "x2_rescaled = (x2 - np.min(x2)) / (np.max(x2) - np.min(x2))\n",
    "X_rescaled = np.concatenate([x1_rescaled.reshape(7,1), x2_rescaled.reshape(7,1)], axis = 1)\n",
    "\n",
    "knn = KNeighborsClassifier(3)\n",
    "knn.fit(X_rescaled,y)\n",
    "mlu.plot_regions(knn, X_rescaled, y)"
   ]
  }
 ],
 "metadata": {
  "kernelspec": {
   "display_name": "Python 3",
   "language": "python",
   "name": "python3"
  },
  "language_info": {
   "codemirror_mode": {
    "name": "ipython",
    "version": 3
   },
   "file_extension": ".py",
   "mimetype": "text/x-python",
   "name": "python",
   "nbconvert_exporter": "python",
   "pygments_lexer": "ipython3",
   "version": "3.6.3"
  },
  "widgets": {
   "state": {
    "59ddc78617594ae2a66b9c9e95e2dd37": {
     "views": [
      {
       "cell_index": 12
      }
     ]
    }
   },
   "version": "1.2.0"
  }
 },
 "nbformat": 4,
 "nbformat_minor": 2
}
