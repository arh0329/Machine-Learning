{
 "cells": [
  {
   "cell_type": "markdown",
   "metadata": {},
   "source": [
    "# Lesson 05 - Matplotlib\n",
    "\n",
    "### The following topics are discussed in this notebook:\n",
    "* Creating histograms, scatterplots, and line plots. \n",
    "* Customizing plots. \n",
    "\n",
    "### Additional Resources\n",
    "* [Python Data Science Handbook, Ch 4](https://jakevdp.github.io/PythonDataScienceHandbook/04.00-introduction-to-matplotlib.html)\n",
    "* [DataCamp: Intermediate Python for Data Science, Ch 1](https://www.datacamp.com/courses/intermediate-python-for-data-science)\n"
   ]
  },
  {
   "cell_type": "markdown",
   "metadata": {
    "collapsed": true
   },
   "source": [
    "## Creating Histograms"
   ]
  },
  {
   "cell_type": "code",
   "execution_count": null,
   "metadata": {
    "collapsed": true
   },
   "outputs": [],
   "source": [
    "import numpy as np\n",
    "import matplotlib.pyplot as plt"
   ]
  },
  {
   "cell_type": "code",
   "execution_count": null,
   "metadata": {
    "collapsed": false
   },
   "outputs": [],
   "source": [
    "x = np.random.normal(loc=8, scale=2, size=100)\n",
    "\n",
    "plt.hist(x)\n",
    "plt.show()"
   ]
  },
  {
   "cell_type": "markdown",
   "metadata": {},
   "source": [
    "We can customize our plots by setting additional visual parameters, and by adding labels. "
   ]
  },
  {
   "cell_type": "code",
   "execution_count": null,
   "metadata": {
    "collapsed": false
   },
   "outputs": [],
   "source": [
    "x = np.random.normal(loc=8, scale=2, size=1000)\n",
    "\n",
    "plt.hist(x, bins = 20, color='salmon', edgecolor='k', normed=True)\n",
    "plt.xlabel('Observed Value')\n",
    "plt.ylabel('Proportion')\n",
    "plt.title('Sample Drawn from N(8,2)')\n",
    "plt.show()"
   ]
  },
  {
   "cell_type": "markdown",
   "metadata": {},
   "source": [
    "There are several [named colors](https://matplotlib.org/gallery/color/named_colors.html) that can be used in Matplotlib plots."
   ]
  },
  {
   "cell_type": "code",
   "execution_count": null,
   "metadata": {
    "collapsed": false
   },
   "outputs": [],
   "source": [
    "x1 = np.random.normal(loc=6, scale=2, size=1000)\n",
    "x2 = np.random.normal(loc=12, scale=4, size=1000)\n",
    "x3 = np.random.normal(loc=20, scale=1, size=1000)\n",
    "\n",
    "plt.hist(x1, bins = 20, color='salmon', alpha=0.6, normed=True)\n",
    "plt.hist(x2, bins = 20, color='cornflowerblue', alpha=0.6, normed=True)\n",
    "plt.hist(x3, bins = 20, color='limegreen', alpha=0.6, normed=True)\n",
    "plt.xlabel('Observed Value')\n",
    "plt.ylabel('Proportion')\n",
    "plt.title('Comparison of Normal Distributions')\n",
    "plt.show()"
   ]
  },
  {
   "cell_type": "markdown",
   "metadata": {},
   "source": [
    "## Creating Bar Charts"
   ]
  },
  {
   "cell_type": "code",
   "execution_count": null,
   "metadata": {
    "collapsed": false
   },
   "outputs": [],
   "source": [
    "grades = np.random.choice(['A','B','C','D','F'],size=37,p=[0.25,0.3,0.2,0.15,0.1])\n",
    "grade_dist = [sum(grades == 'A'), sum(grades == 'B'), sum(grades == 'C'), sum(grades == 'D'), sum(grades == 'F')]\n",
    "\n",
    "grade_labels = ['A','B','C','D','F']\n",
    "\n",
    "plt.bar(range(5), grade_dist)\n",
    "plt.xticks(range(5), grade_labels)\n",
    "plt.xlabel('Grades')\n",
    "plt.ylabel('Count')\n",
    "plt.title('Grade Distribution')\n",
    "plt.show()\n"
   ]
  },
  {
   "cell_type": "markdown",
   "metadata": {},
   "source": [
    "## Creating Scatterplots"
   ]
  },
  {
   "cell_type": "code",
   "execution_count": null,
   "metadata": {
    "collapsed": false,
    "scrolled": false
   },
   "outputs": [],
   "source": [
    "x = np.random.uniform(0,10,100)\n",
    "y = 7 + 2 * x\n",
    "\n",
    "plt.scatter(x,y)\n",
    "plt.show()"
   ]
  },
  {
   "cell_type": "code",
   "execution_count": null,
   "metadata": {
    "collapsed": false
   },
   "outputs": [],
   "source": [
    "c1 = np.random.uniform(0,10,2)\n",
    "c2 = np.random.uniform(0,10,2)\n",
    "sd = np.random.uniform(1,3)\n",
    "\n",
    "N = 20\n",
    "\n",
    "x1 = np.random.normal(c1[0], sd, N)\n",
    "y1 = np.random.normal(c1[1], sd, N)\n",
    "x2 = np.random.normal(c2[0], sd, N)\n",
    "y2 = np.random.normal(c2[1], sd, N)\n",
    "\n",
    "plt.scatter(x1, y1)\n",
    "plt.scatter(x2, y2)\n",
    "plt.show()"
   ]
  },
  {
   "cell_type": "markdown",
   "metadata": {},
   "source": [
    "## Creating Line Plots"
   ]
  },
  {
   "cell_type": "code",
   "execution_count": null,
   "metadata": {
    "collapsed": false,
    "scrolled": true
   },
   "outputs": [],
   "source": [
    "ep = np.random.normal(0,1,1000)\n",
    "x = np.cumsum(ep)\n",
    "\n",
    "plt.plot(x)\n",
    "plt.show()"
   ]
  },
  {
   "cell_type": "code",
   "execution_count": null,
   "metadata": {
    "collapsed": false,
    "scrolled": true
   },
   "outputs": [],
   "source": [
    "x = np.linspace(0,5,50)\n",
    "y = np.random.normal(0,2,50)\n",
    "\n",
    "plt.plot(x,y)\n",
    "plt.show()"
   ]
  },
  {
   "cell_type": "code",
   "execution_count": null,
   "metadata": {
    "collapsed": false,
    "scrolled": true
   },
   "outputs": [],
   "source": [
    "x = np.linspace(0,5,50)\n",
    "y = x**3 - 7 * x**2 + 14 * x\n",
    "\n",
    "plt.plot(x,y)\n",
    "plt.show()"
   ]
  },
  {
   "cell_type": "code",
   "execution_count": null,
   "metadata": {
    "collapsed": false
   },
   "outputs": [],
   "source": [
    "x = np.linspace(0,2*3.14159,50)\n",
    "y1 = np.sin(x)\n",
    "y2 = np.cos(x)\n",
    "\n",
    "plt.plot(x,y1)\n",
    "plt.plot(x,y2)\n",
    "plt.show()"
   ]
  }
 ],
 "metadata": {
  "kernelspec": {
   "display_name": "Python 3",
   "language": "python",
   "name": "python3"
  },
  "language_info": {
   "codemirror_mode": {
    "name": "ipython",
    "version": 3
   },
   "file_extension": ".py",
   "mimetype": "text/x-python",
   "name": "python",
   "nbconvert_exporter": "python",
   "pygments_lexer": "ipython3",
   "version": "3.6.0"
  }
 },
 "nbformat": 4,
 "nbformat_minor": 2
}
