{
 "cells": [
  {
   "cell_type": "markdown",
   "metadata": {},
   "source": [
    "# Lesson 06 - Pandas DataFrames\n",
    "\n",
    "### The following topics are discussed in this notebook:\n",
    "* Reading data from a file.\n",
    "* Selecting data from a DataFrame.\n",
    "* Boolean masking. \n",
    "* Creating DataFrames.\n",
    "\n",
    "### Additional Resources\n",
    "* [Python Data Science Handbook, Ch 3](https://jakevdp.github.io/PythonDataScienceHandbook/04.00-introduction-to-matplotlib.html)\n",
    "* [DataCamp: Intermediate Python for Data Science, Ch 2](https://www.datacamp.com/courses/intermediate-python-for-data-science)\n",
    "\n",
    "\n",
    "\n"
   ]
  },
  {
   "cell_type": "markdown",
   "metadata": {
    "collapsed": true
   },
   "source": [
    "## Pandas DataFrames\n",
    "\n",
    "Pandas is a Python package developed for performing data manipulation and data analysis. The core feature of Pandas is the **DataFrame** data structure. A DataFrame is a 2-dimensional labeled data structure with columns of potentially different types. You can think of it like a spreadsheet or SQL table"
   ]
  },
  {
   "cell_type": "code",
   "execution_count": 1,
   "metadata": {
    "collapsed": true
   },
   "outputs": [],
   "source": [
    "import numpy as np\n",
    "import pandas as pd"
   ]
  },
  {
   "cell_type": "markdown",
   "metadata": {},
   "source": [
    "## Reading Data From a File\n",
    "\n",
    "We will often create DataFrames by reading data in from a file. "
   ]
  },
  {
   "cell_type": "code",
   "execution_count": null,
   "metadata": {},
   "outputs": [],
   "source": [
    "states = pd.read_csv('state_data.csv')\n",
    "states.head()"
   ]
  },
  {
   "cell_type": "markdown",
   "metadata": {},
   "source": [
    "## Index of a DataFrame\n",
    "\n",
    "By default, rows in a DateFrame are indexed numerically. However, we can assign one of the columns in the DataFrame to serve as an **index**. This will allow us to access rows by their number, or by their index value. "
   ]
  },
  {
   "cell_type": "code",
   "execution_count": null,
   "metadata": {},
   "outputs": [],
   "source": [
    "states.set_index('Abbv', inplace=True)\n",
    "states.head()"
   ]
  },
  {
   "cell_type": "code",
   "execution_count": null,
   "metadata": {},
   "outputs": [],
   "source": [
    "states.index.name = None\n",
    "states.head()"
   ]
  },
  {
   "cell_type": "markdown",
   "metadata": {},
   "source": [
    "## Selecting Elements of a DataFrame\n",
    "\n",
    "There are two indexable attribues that can be used to access elements of a DataFrame: `loc` and `iloc`. \n",
    "\n",
    "* `loc` is used to access elements of the DataFrame using column and row names. \n",
    "* `iloc` is used to access elements of the DataFrame using numerical indices for the rows and columns.  "
   ]
  },
  {
   "cell_type": "code",
   "execution_count": null,
   "metadata": {},
   "outputs": [],
   "source": [
    "# Population of Missouri\n",
    "print(states.loc['MO','Pop'])\n",
    "print(states.iloc[24,2])"
   ]
  },
  {
   "cell_type": "code",
   "execution_count": null,
   "metadata": {},
   "outputs": [],
   "source": [
    "# All Missouri Information\n",
    "print(states.loc['MO',:])\n",
    "print()\n",
    "print(states.iloc[24,:])"
   ]
  },
  {
   "cell_type": "code",
   "execution_count": null,
   "metadata": {},
   "outputs": [],
   "source": [
    "# Unemployment for first four states\n",
    "print(states.loc[:'AR','Unemp'])\n",
    "print()\n",
    "print(states.iloc[:4,3])"
   ]
  },
  {
   "cell_type": "code",
   "execution_count": null,
   "metadata": {},
   "outputs": [],
   "source": [
    "print(states.ix[:4,'Unemp'])"
   ]
  },
  {
   "cell_type": "markdown",
   "metadata": {},
   "source": [
    "## Alternate Method of Accessing Columns\n",
    "\n",
    "We can access a column of a DataFrame using the following syntax: `my_dataframe.loc[:,'ColName']`. Fortunately, there is a more concise way of accessing this information."
   ]
  },
  {
   "cell_type": "code",
   "execution_count": null,
   "metadata": {},
   "outputs": [],
   "source": [
    "print(states.Pop)"
   ]
  },
  {
   "cell_type": "markdown",
   "metadata": {},
   "source": [
    "## Boolean Masking\n",
    "\n",
    "We can use boolean masking along with `loc` to subset DataFrames."
   ]
  },
  {
   "cell_type": "code",
   "execution_count": null,
   "metadata": {},
   "outputs": [],
   "source": [
    "sel = states.Unemp > 5\n",
    "states.loc[sel,:]"
   ]
  },
  {
   "cell_type": "code",
   "execution_count": null,
   "metadata": {},
   "outputs": [],
   "source": [
    "states.loc[states.Area < 10000,:]"
   ]
  },
  {
   "cell_type": "markdown",
   "metadata": {},
   "source": [
    "## Sorting by Columns\n",
    "\n",
    "We can use the `sort_values()` method to sort the contents of a DataFrame."
   ]
  },
  {
   "cell_type": "code",
   "execution_count": null,
   "metadata": {},
   "outputs": [],
   "source": [
    "states.sort_values('HS_Grad').head()"
   ]
  },
  {
   "cell_type": "code",
   "execution_count": null,
   "metadata": {
    "scrolled": true
   },
   "outputs": [],
   "source": [
    "states.sort_values('HS_Grad', ascending=False).head()"
   ]
  },
  {
   "cell_type": "markdown",
   "metadata": {},
   "source": [
    "## Adding Columns to a DataFrame"
   ]
  },
  {
   "cell_type": "code",
   "execution_count": null,
   "metadata": {},
   "outputs": [],
   "source": [
    "states['PopDensity'] = states.Pop / states.Area\n",
    "states.head()"
   ]
  },
  {
   "cell_type": "code",
   "execution_count": null,
   "metadata": {},
   "outputs": [],
   "source": [
    "states.sort_values('PopDensity', ascending=False).head(n=10)"
   ]
  },
  {
   "cell_type": "markdown",
   "metadata": {},
   "source": [
    "# Creating DataFrames"
   ]
  },
  {
   "cell_type": "markdown",
   "metadata": {},
   "source": [
    "We will occasionally need to create a DataFrame from a set of lists or arrays. Before discussing how to do this, we need to introduce the `dict` data type. \n",
    "\n",
    "A **`dict`** is a data type that is similar to a list, except that elements are referenced by a name assigned to them at creation, rather than by an index. Entries in a `dict` are defined by in **key/value** pairs. \n"
   ]
  },
  {
   "cell_type": "code",
   "execution_count": null,
   "metadata": {
    "scrolled": true
   },
   "outputs": [],
   "source": [
    "sales_person = {\n",
    "    'Name': 'Alice Smith',\n",
    "    'Salary': 42000,\n",
    "    'Clients': ['Stark Ent.', 'Wayne Ent.', 'Oscorp'],\n",
    "    'SalesInvoices': [1204, 1250, 1321, 1347, 1598]\n",
    "}\n",
    "\n",
    "print(sales_person)"
   ]
  },
  {
   "cell_type": "code",
   "execution_count": null,
   "metadata": {},
   "outputs": [],
   "source": [
    "print(sales_person['Name'])\n",
    "print(sales_person['Salary'])\n",
    "print(sales_person['Clients'])\n",
    "print(sales_person['SalesInvoices'])"
   ]
  },
  {
   "cell_type": "markdown",
   "metadata": {},
   "source": [
    "We can use a `dict` to try to emulate the functionality of a DataFrame. "
   ]
  },
  {
   "cell_type": "code",
   "execution_count": null,
   "metadata": {
    "collapsed": true
   },
   "outputs": [],
   "source": [
    "abbreviation = ['AK', 'CO', 'IL', 'MO', 'NY']\n",
    "state_name = ['Alaska', 'Colorado', 'Illinois', 'Missouri', 'New York']\n",
    "population = [735132, 5268367, 12882135, 6044171, 19651127]\n",
    "unemployment = [7.2, 2.4, 5.0, 4.0, 4.8]\n",
    "\n",
    "states_dict = {'Abbv':abbreviation, 'State':state_name, 'Pop':population, 'UnEmp':unemployment}"
   ]
  },
  {
   "cell_type": "markdown",
   "metadata": {},
   "source": [
    "We can look up information relating to Missouri as follows:"
   ]
  },
  {
   "cell_type": "code",
   "execution_count": null,
   "metadata": {},
   "outputs": [],
   "source": [
    "print(states_dict['Abbv'][3])\n",
    "print(states_dict['State'][3])\n",
    "print(states_dict['Pop'][3])\n",
    "print(states_dict['UnEmp'][3])"
   ]
  },
  {
   "cell_type": "markdown",
   "metadata": {},
   "source": [
    "Using a `dict` to store this type of data has some severe limitations:\n",
    "\n",
    "* There is no convenient way of accessing an entire \"row\" at once. \n",
    "* We have to already know the numerical of any \"row\" whose information we wish to access. \n",
    "* There is no convenient way to sort our data when it is stored in a dict.\n",
    "\n",
    "Fortunately, it is easy to create a DataFrame from a dict."
   ]
  },
  {
   "cell_type": "code",
   "execution_count": null,
   "metadata": {},
   "outputs": [],
   "source": [
    "states_df = pd.DataFrame(states_dict)\n",
    "states_df"
   ]
  },
  {
   "cell_type": "code",
   "execution_count": null,
   "metadata": {},
   "outputs": [],
   "source": [
    "x1 = np.random.normal(10,2,20)\n",
    "x2 = np.random.normal(20,5,20)\n",
    "y = np.random.choice(['A','B'], 20)\n",
    "\n",
    "data = pd.DataFrame({'x1':x1, 'x2':x2, 'y':y})\n",
    "data.head()"
   ]
  }
 ],
 "metadata": {
  "kernelspec": {
   "display_name": "Python 3",
   "language": "python",
   "name": "python3"
  },
  "language_info": {
   "codemirror_mode": {
    "name": "ipython",
    "version": 3
   },
   "file_extension": ".py",
   "mimetype": "text/x-python",
   "name": "python",
   "nbconvert_exporter": "python",
   "pygments_lexer": "ipython3",
   "version": "3.6.3"
  }
 },
 "nbformat": 4,
 "nbformat_minor": 2
}
